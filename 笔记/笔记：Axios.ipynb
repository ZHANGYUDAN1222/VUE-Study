{
 "cells": [
  {
   "cell_type": "markdown",
   "metadata": {},
   "source": [
    "# Axios"
   ]
  },
  {
   "cell_type": "markdown",
   "metadata": {},
   "source": [
    "#### Axios 是什么？\n",
    "* 前端最流行的 AJAX 请求库\n",
    "* 基于 Promise 的 HTTP 客户端， 可在浏览器或 node.js 运行"
   ]
  },
  {
   "cell_type": "markdown",
   "metadata": {},
   "source": [
    "#### 特性\n",
    "* 发送 XMLHttpRequests 请求\n",
    "* 从 node.js 发送 http 请求\n",
    "* 支持 Promise API\n",
    "* 请求/响应的拦截器， 请求前做一些准备工作， 响应回来后， 可以对结果做一些处理。\n",
    "* 对请求和响应数据做转换\n",
    "* 取消请求\n",
    "* 自动将结果转换为 JSON 数据\n",
    "* 客户端提供针对 XSRF 的保护"
   ]
  },
  {
   "cell_type": "markdown",
   "metadata": {},
   "source": [
    "#### 搭建 HTTP 服务\n",
    "* 学习时需要发送请求， 需要 HTTP 服务端来与 Axios 结合做实践"
   ]
  }
 ],
 "metadata": {
  "language_info": {
   "name": "python"
  },
  "orig_nbformat": 4
 },
 "nbformat": 4,
 "nbformat_minor": 2
}
