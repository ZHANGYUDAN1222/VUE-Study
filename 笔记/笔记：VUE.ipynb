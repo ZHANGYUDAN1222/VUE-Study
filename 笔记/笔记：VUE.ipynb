{
 "cells": [
  {
   "cell_type": "markdown",
   "metadata": {},
   "source": [
    "# VUE"
   ]
  },
  {
   "cell_type": "markdown",
   "metadata": {},
   "source": [
    "1. 想要VUE工作， 必须创建一个VUE实例， 并要传入一个配置对象；\n",
    "2. root容器里的代码依然符合html规范， 只不过混入了一些特殊的VUE语法；\n",
    "3. root容器里的代码被称为 【VUE模板】;\n",
    "4. VUE实例和容器时一一对应的；\n",
    "5. 真实开发中只有一个VUE实例， 并且会配合着组件一起使用；\n",
    "6. {{xxx}}中的xxx要写js表达式， 且xxx可以自动读取到data中的所有属性；\n",
    "7. 一旦data中的数据发生改变， 那么模板中用到该数据的地方会自动更新；"
   ]
  },
  {
   "cell_type": "code",
   "execution_count": null,
   "metadata": {
    "vscode": {
     "languageId": "html"
    }
   },
   "outputs": [],
   "source": [
    "<div id=\"root\">\n",
    "        <h1>Hello {{name}}</h1>\n",
    "</div>\n",
    "<script>\n",
    "    // 创建Vue实例\n",
    "    new Vue({      \n",
    "        //el: document.getElementById('root')   //getElementById 则是亲自找到元素配给 el, 速度会慢。\n",
    "        //下面的常用！！！给一个选择器，自己去找去。 \n",
    "        el:\"#root\",   // el:element 用于指定当前VUE实例为哪个容器服务，值通常为CSS选择器字符串。\n",
    "        data: { //data 中用于存储数据， 数据供el所指定的容器去使，值暂时写成一个对象。\n",
    "            name: 'World'\n",
    "        }\n",
    "    })\n",
    "</script>"
   ]
  },
  {
   "cell_type": "markdown",
   "metadata": {},
   "source": [
    "#### 6. 注意区分：JS表达式和JS代码（语句）\n",
    "* 表达式：一个表达式会产生一个值， 可以放在任何一个需要值的地方；\n",
    "   1. a\n",
    "   2. a+b\n",
    "   3. demo(1)\n",
    "   4. x === y ? 'a' : 'b'\n",
    "\n",
    "---\n",
    "\n",
    "* js代码（语句）\n",
    "   1. if(){}\n",
    "   2. for(){}"
   ]
  },
  {
   "cell_type": "markdown",
   "metadata": {},
   "source": [
    "# 模板语法\n",
    "1. 插值语法 （ {{ }} ）\n",
    "   用于标签体内， 即 < div>标签体内</ div> \n",
    "2. 指令语法 （   -v  ）\n",
    "   用于标签属性， 即 < a :href='url'> "
   ]
  },
  {
   "cell_type": "markdown",
   "metadata": {},
   "source": [
    "# 数据绑定\n",
    "1. 单向绑定（v-bind）: 数据只能从data流向页面。\n",
    "2. 双向绑定（v-model）: 数据不仅能从data流向页面， 还可以从页面流向data。\n",
    "   * 只能用于表单类元素上（如： input 、 select等）\n",
    "   * v-model:value 可以简写为 v-model， 因为 v-model 默认收集的就是 value 的。"
   ]
  },
  {
   "cell_type": "markdown",
   "metadata": {},
   "source": [
    "# Data 与 el 的两种写法\n",
    "1. el 有两种写法\n",
    "   * new Vue 时候配置 el 属性。\n",
    "   * 先创建 Vue 实例， 随后再通过 vm.$mount('#root) 指定 el 的值。\n",
    "2. data 有两种写法\n",
    "   * 对象式\n",
    "   * 函数式\n",
    "   * data 必须写函数式， 否则会报错。\n",
    "3. 一个重要的原则\n",
    "   * 由 VUE 管理的函数， 一定不要写箭头函数， 一旦写了箭头函数， this 就不再是 VUE 实例了。"
   ]
  },
  {
   "cell_type": "markdown",
   "metadata": {},
   "source": [
    "# MVVM 模型\n",
    "1. M： 模型（Model）： 对应data中的数据。\n",
    "2. V： 视图（View）: 模板\n",
    "3. VM： 视图模型（ViewModel）: VUE 实例对象。"
   ]
  },
  {
   "cell_type": "markdown",
   "metadata": {},
   "source": [
    "#### 观察发现：\n",
    "1. data 中所有的属性， 最后都出现在了 vm 身上。\n",
    "2. vm 身上的所有属性 及 Vue 原型上所有属性， 在 Vue 模板中都可以直接使用。"
   ]
  },
  {
   "cell_type": "markdown",
   "metadata": {},
   "source": [
    "# Object.defineProperty\n",
    "* getter：get(){return...}\n",
    "* setter：set(value){}"
   ]
  },
  {
   "cell_type": "markdown",
   "metadata": {},
   "source": [
    "# 数据代理\n",
    "* 利用 Object.defineProperty来让一个对象更改另一个对象。"
   ]
  },
  {
   "cell_type": "markdown",
   "metadata": {},
   "source": [
    "# 事件的基本使用\n",
    "   1. 使用v-on：xxx 或 @xxx 绑定事件， 其中xxx是事件名；\n",
    "   2. 事件的回调需要配置在method对象中， 最终会在vm上；\n",
    "   3. methods 中配置的函数，不要用箭头函数， 否则this就不是vm了；\n",
    "   4. methods 中配置的函数，都是被VUE所管理的函数， this的指向是vm 或组件实例对象；\n",
    "   5. @click='demo' 和 @click = 'demo($event)' 效果一致， 但后者可以传参；"
   ]
  },
  {
   "cell_type": "markdown",
   "metadata": {},
   "source": [
    "#### 事件修饰符\n",
    "   1. prevent: 阻止默认事件（常用）；\n",
    "   2. stop: 阻止事件冒泡（常用）；\n",
    "   3. once: 事件只触发一次（常用）；\n",
    "   4. capture: 使用事件的捕获方式；\n",
    "   5. self: 只有event.target是当前操作的元素时才触发事件；\n",
    "   6. passive: 事件的默认行为立即执行， 无需等待事件回调执行完毕；"
   ]
  },
  {
   "cell_type": "markdown",
   "metadata": {},
   "source": [
    "   # 键盘事件\n",
    "   1. Vue中常用的按键别名\n",
    "      * 回车 => enter\n",
    "      * 删除 => delete (捕获“删除”和“退格”键)\n",
    "      * 退出 => esc\n",
    "      * 空格 => space\n",
    "      * 换行 => tab （特殊， 需配合keydown使用）\n",
    "      * 上 => up\n",
    "      * 下 => down\n",
    "      * 左 => left\n",
    "      * 右 => right\n",
    "    2. Vue未提供别名的按键， 可以使用按键原始的key 值去绑定，但注意要转为kebab-case(短横线命名)\n",
    "    3. 系统修饰键（用法特殊）： ctrl, alt, shift, meta\n",
    "       (1). 配合keyup使用：按下修饰键的同时， 再按下其他键吗随后释放其他键， 事件才被触发。\n",
    "       (2). 配合keydown使用：正常触发事件。\n",
    "    4. 也可以使用keyCode去指定具体的按键（不推荐）\n",
    "    5. Vue.config.keyCodes.自定义键名 = 键码， 可以去定制按键别名。\n"
   ]
  },
  {
   "cell_type": "markdown",
   "metadata": {},
   "source": [
    "# Get 函数\n",
    "   #### get的作用：\n",
    "   * 当有人读取fullname时， get就会被调用， 且返回值就作为fullName的值\n",
    "   #### get什么时候调用：\n",
    "   1. 初次读取fullName 时。\n",
    "   2. 所依赖的数据发生变化时。\n",
    "   #### 优势：\n",
    "   * 与methods实现相比， 内部有缓存机制（复用）， 效率更高， 调试方便。"
   ]
  },
  {
   "cell_type": "markdown",
   "metadata": {},
   "source": [
    "# Set函数\n",
    "   #### set什么时候调用：\n",
    "   * 当fullName被修改时"
   ]
  },
  {
   "cell_type": "markdown",
   "metadata": {},
   "source": [
    "# 计算属性：\n",
    "   1. 定义： 要用的属性不存在， 要通过已有的属性计算得来。\n",
    "   2. 原理： 底层借助了Object.defineProperty方法提供的getter和setter。\n",
    "   3. 备注： \n",
    "        * 计算属性最终会出现在vm上， 直接读取使用即可。\n",
    "        * 如果计算属性要被修改， 那必须写set函数去响应修改， 且set中要引起计算式依赖的数据发生改变。"
   ]
  },
  {
   "cell_type": "markdown",
   "metadata": {},
   "source": [
    "# 监视属性watch：\n",
    "1. 当被监视的属性变化时， 回调函数自动调用， 进行相关操作\n",
    " 2. 监视的属性必须存在， 才能进行监视！\n",
    " 3. 监视的两种写法：\n",
    "   * new Vue时传入watch配置\n",
    "   * 通过vm.$watch监视"
   ]
  },
  {
   "cell_type": "markdown",
   "metadata": {},
   "source": [
    "# 深度监视：\n",
    "   1. Vue中的watch默认不监测对象内部值的改变（一层）\n",
    "   2. 配置deep:true可以监测对象內部值改变（多层）。\n",
    "* 备注：\n",
    "   1. Vue自身可以监测对象内部值的改变， 但Vue提供的watch默认不可以！\n",
    "   2. 使用watch时根据数据的具体结构， 决定是否采用深度检测。"
   ]
  },
  {
   "cell_type": "markdown",
   "metadata": {},
   "source": [
    "# Computed VS Watch\n",
    "1. computed能完成的功能， watch也能完成。\n",
    "2. watch能完成的功能， computed不一定能完成， 例如：watch可以异步\n",
    "#### 两个原则：\n",
    "   1. 被Vue管理的函数， 最好写成普通函数， 这样this的指向才是vm 或组件实例对象.\n",
    "   2. 所有不被Vue所管理的函数（定时器的回调函数、ajax的回调函数等）， 最好写成箭头函数， 这样this的指向才是vm 或 组件实例对象。"
   ]
  },
  {
   "cell_type": "markdown",
   "metadata": {},
   "source": [
    "# 绑定样式：\n",
    "#### class样式\n",
    "1. 写法：class=\"xxx\" xxx可以是字符串、对象、数组。\n",
    "2. 字符串写法适用于：类名不确定， 要动态获取。\n",
    "3. 数组写法， 适用于：样式的类名不确定, 个数也不确定， 需要动态指定。\n",
    "4. 绑定class样式--对象写法， 适用于：样式的类名确定, 个数也确定， 需要动态指定用不用。\n",
    "#### style样式\n",
    "1. :style=\"{fontSize:xxx}\", 其中xxx是动态值。\n",
    "2. :style=\"[a, b]\"其中a, b是样式对象。\n"
   ]
  },
  {
   "cell_type": "markdown",
   "metadata": {},
   "source": [
    "# 列表渲染\n",
    "* v-for 指令\n",
    "   1. 用于展示列表数据\n",
    "   2. 语法：v-for=\"(item, index) in xxx\"  :key=\"yyy\"\n",
    "   3. 可遍历：数组、对象、字符串（用的很少）、指定次数（用的很少）"
   ]
  }
 ],
 "metadata": {
  "language_info": {
   "name": "python"
  },
  "orig_nbformat": 4
 },
 "nbformat": 4,
 "nbformat_minor": 2
}
