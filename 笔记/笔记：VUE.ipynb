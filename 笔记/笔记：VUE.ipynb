{
 "cells": [
  {
   "cell_type": "markdown",
   "metadata": {},
   "source": [
    "# VUE"
   ]
  },
  {
   "cell_type": "markdown",
   "metadata": {},
   "source": [
    "1. 想要VUE工作， 必须创建一个VUE实例， 并要传入一个配置对象；\n",
    "2. root容器里的代码依然符合html规范， 只不过混入了一些特殊的VUE语法；\n",
    "3. root容器里的代码被称为 【VUE模板】;\n",
    "4. VUE实例和容器时一一对应的；\n",
    "5. 真实开发中只有一个VUE实例， 并且会配合着组件一起使用；\n",
    "6. {{xxx}}中的xxx要写js表达式， 且xxx可以自动读取到data中的所有属性；\n",
    "7. 一旦data中的数据发生改变， 那么模板中用到该数据的地方会自动更新；"
   ]
  },
  {
   "cell_type": "code",
   "execution_count": null,
   "metadata": {
    "vscode": {
     "languageId": "html"
    }
   },
   "outputs": [],
   "source": [
    "<div id=\"root\">\n",
    "        <h1>Hello {{name}}</h1>\n",
    "</div>\n",
    "<script>\n",
    "    // 创建Vue实例\n",
    "    new Vue({      \n",
    "        //el: document.getElementById('root')   //getElementById 则是亲自找到元素配给 el, 速度会慢。\n",
    "        //下面的常用！！！给一个选择器，自己去找去。 \n",
    "        el:\"#root\",   // el:element 用于指定当前VUE实例为哪个容器服务，值通常为CSS选择器字符串。\n",
    "        data: { //data 中用于存储数据， 数据供el所指定的容器去使，值暂时写成一个对象。\n",
    "            name: 'World'\n",
    "        }\n",
    "    })\n",
    "</script>"
   ]
  },
  {
   "cell_type": "markdown",
   "metadata": {},
   "source": [
    "#### 6. 注意区分：JS表达式和JS代码（语句）\n",
    "* 表达式：一个表达式会产生一个值， 可以放在任何一个需要值的地方；\n",
    "   1. a\n",
    "   2. a+b\n",
    "   3. demo(1)\n",
    "   4. x === y ? 'a' : 'b'\n",
    "\n",
    "---\n",
    "\n",
    "* js代码（语句）\n",
    "   1. if(){}\n",
    "   2. for(){}"
   ]
  },
  {
   "cell_type": "markdown",
   "metadata": {},
   "source": [
    "# 模板语法\n",
    "1. 插值语法 （ {{ }} ）\n",
    "   用于标签体内， 即 < div>标签体内</ div> \n",
    "2. 指令语法 （   -v  ）\n",
    "   用于标签属性， 即 < a :href='url'> "
   ]
  },
  {
   "cell_type": "markdown",
   "metadata": {},
   "source": [
    "# 数据绑定\n",
    "1. 单向绑定（v-bind）: 数据只能从data流向页面。\n",
    "2. 双向绑定（v-model）: 数据不仅能从data流向页面， 还可以从页面流向data。\n",
    "   * 只能用于表单类元素上（如： input 、 select等）\n",
    "   * v-model:value 可以简写为 v-model， 因为 v-model 默认收集的就是 value 的。"
   ]
  },
  {
   "cell_type": "markdown",
   "metadata": {},
   "source": [
    "# Data 与 el 的两种写法\n",
    "1. el 有两种写法\n",
    "   * new Vue 时候配置 el 属性。\n",
    "   * 先创建 Vue 实例， 随后再通过 vm.$mount('#root) 指定 el 的值。\n",
    "2. data 有两种写法\n",
    "   * 对象式\n",
    "   * 函数式\n",
    "   * data 必须写函数式， 否则会报错。\n",
    "3. 一个重要的原则\n",
    "   * 由 VUE 管理的函数， 一定不要写箭头函数， 一旦写了箭头函数， this 就不再是 VUE 实例了。"
   ]
  },
  {
   "cell_type": "markdown",
   "metadata": {},
   "source": [
    "# MVVM 模型\n",
    "1. M： 模型（Model）： 对应data中的数据。\n",
    "2. V： 视图（View）: 模板\n",
    "3. VM： 视图模型（ViewModel）: VUE 实例对象。"
   ]
  },
  {
   "cell_type": "markdown",
   "metadata": {},
   "source": [
    "#### 观察发现：\n",
    "1. data 中所有的属性， 最后都出现在了 vm 身上。\n",
    "2. vm 身上的所有属性 及 Vue 原型上所有属性， 在 Vue 模板中都可以直接使用。"
   ]
  }
 ],
 "metadata": {
  "language_info": {
   "name": "python"
  },
  "orig_nbformat": 4
 },
 "nbformat": 4,
 "nbformat_minor": 2
}
