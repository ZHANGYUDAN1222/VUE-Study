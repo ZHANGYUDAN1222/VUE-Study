{
 "cells": [
  {
   "cell_type": "markdown",
   "metadata": {},
   "source": [
    "# 箭头函数"
   ]
  },
  {
   "cell_type": "code",
   "execution_count": null,
   "metadata": {
    "vscode": {
     "languageId": "javascript"
    }
   },
   "outputs": [],
   "source": [
    "hello = function(){\n",
    "        return 'hello world'\n",
    "    }\n",
    "// 将变成\n",
    "hello = () => {\n",
    "    return 'hello world'\n",
    "}\n",
    "// 最终变成\n",
    "hello = () => 'hello world'"
   ]
  },
  {
   "cell_type": "markdown",
   "metadata": {},
   "source": [
    "##### 箭头函数没有自己的 this， 如果调用 this， 那就会向外找。"
   ]
  },
  {
   "cell_type": "markdown",
   "metadata": {},
   "source": [
    "# 回调函数："
   ]
  },
  {
   "cell_type": "markdown",
   "metadata": {},
   "source": [
    "作为某函数的参数的函数叫做回调函数 例：log1就是回调函数"
   ]
  },
  {
   "cell_type": "code",
   "execution_count": null,
   "metadata": {
    "vscode": {
     "languageId": "javascript"
    }
   },
   "outputs": [],
   "source": [
    "const log1 = () => {\n",
    "    console.log(1);\n",
    "};\n",
    "setTimeout(log1, 1000)\n",
    "\n",
    "// 通常写作：log1写成匿名函数\n",
    "setTimeout(() => {\n",
    "        console.log(1);\n",
    "    }, 1000);"
   ]
  },
  {
   "cell_type": "markdown",
   "metadata": {},
   "source": [
    "# 异步函数：单核运行多线程"
   ]
  },
  {
   "cell_type": "markdown",
   "metadata": {},
   "source": [
    "传统异步是回调函数"
   ]
  },
  {
   "cell_type": "code",
   "execution_count": null,
   "metadata": {
    "vscode": {
     "languageId": "javascript"
    }
   },
   "outputs": [],
   "source": [
    "setTimeout(() => {\n",
    "    console.log('等3秒');\n",
    "\n",
    "    setTimeout(() => {\n",
    "        console.log('再等3秒');\n",
    "\n",
    "        setTimeout(() => {\n",
    "            console.log('又等3秒');\n",
    "\n",
    "            //...\n",
    "        }, 3000);\n",
    "    }, 3000);\n",
    "}, 3000);\n",
    "// 此方法会不断向右延申， 影响阅读性， 又称回调地狱"
   ]
  },
  {
   "cell_type": "markdown",
   "metadata": {},
   "source": [
    "新异步： Promise"
   ]
  },
  {
   "cell_type": "code",
   "execution_count": null,
   "metadata": {
    "vscode": {
     "languageId": "javascript"
    }
   },
   "outputs": [],
   "source": [
    "// 返回一个 Promise 对象， 承诺在未来某个时刻返回数据\n",
    "fetch(\"https://jsonplaceholder.typicode.com/posts/1\") \n",
    "    .then( (response) => {    // 用 then 方法来传递一个回调函数\n",
    "        // ...\n",
    "    });\n",
    "// 如果这个请求在未来成功完成， 那么回调函数会被调起， 请求的结果也会以参数的形式传递进来"
   ]
  },
  {
   "cell_type": "markdown",
   "metadata": {},
   "source": [
    "Promise 和回调函数的区别：\n",
    "\n",
    "可以用链式结构将多个异步操作串联起来"
   ]
  },
  {
   "cell_type": "code",
   "execution_count": null,
   "metadata": {
    "vscode": {
     "languageId": "javascript"
    }
   },
   "outputs": [],
   "source": [
    "fetch(\"https://jsonplaceholder.typicode.com/posts/1\")\n",
    "    .then( (response) => response.json());\n",
    "// 这里的response.json()方法也会返回一个Promise\n",
    "// 代表在将来的某个时刻将返回的数据转换成 JSON 格式"
   ]
  },
  {
   "cell_type": "markdown",
   "metadata": {},
   "source": [
    "Then: 如果想等到此程序完成后再执行其他的操作， 可在后边追加一个 then "
   ]
  },
  {
   "cell_type": "code",
   "execution_count": null,
   "metadata": {
    "vscode": {
     "languageId": "javascript"
    }
   },
   "outputs": [],
   "source": [
    "fetch(\"https://jsonplaceholder.typicode.com/posts/1\")\n",
    "    .then( (response) => response.json())\n",
    "    .then((json) => console.log(json))  // 将结果打印出来\n",
    "    .then( )\n",
    "    .then( )\n",
    "    .then( );\n",
    "\n",
    "// 避免了层层嵌套"
   ]
  },
  {
   "cell_type": "markdown",
   "metadata": {},
   "source": [
    "Catch: 若执行中报错"
   ]
  },
  {
   "cell_type": "code",
   "execution_count": null,
   "metadata": {
    "vscode": {
     "languageId": "javascript"
    }
   },
   "outputs": [],
   "source": [
    "fetch(\"https://jsonplaceholder.typicode.com/posts/1\")\n",
    "    .then( (response) => response.json())\n",
    "    .then((json) => console.log(json))  // 将结果打印出来\n",
    "    \n",
    "    .catch((error) => {\n",
    "        console.error(error);\n",
    "    }) // 任意的 then 如果出错就会报错，并且后续的 then 不会被执行\n",
    "    \n",
    "    .finally(() => {\n",
    "        stopLoadingAnimation();\n",
    "    }); \n",
    "    // 可在此进行清理工作， 比如用到了加载动画， 可在 finally 中关闭它。"
   ]
  },
  {
   "cell_type": "markdown",
   "metadata": {},
   "source": [
    "Finally: 在 Promise 链结束后调用， 无论失败与否。"
   ]
  },
  {
   "cell_type": "markdown",
   "metadata": {},
   "source": [
    "# Async & Await"
   ]
  },
  {
   "cell_type": "markdown",
   "metadata": {},
   "source": [
    "在 Promise 的基础上， 让异步操作更加的简洁明了"
   ]
  },
  {
   "cell_type": "markdown",
   "metadata": {},
   "source": [
    "Await: 代替 then, 在异步函数中使用异步函数"
   ]
  },
  {
   "cell_type": "markdown",
   "metadata": {},
   "source": [
    "* await 虽然看上去会暂停函数的执行， 但在等待的过程中， JavaScript 同样可以处理其他的任务。\n",
    "* await 的底层是基于 Promise 和事件循环机制实现的: Promise + 事件循环（Event Loop）"
   ]
  },
  {
   "cell_type": "code",
   "execution_count": null,
   "metadata": {
    "vscode": {
     "languageId": "javascript"
    }
   },
   "outputs": [],
   "source": [
    "// 使用 async 关键字将函数标记为异步函数\n",
    "async function f(){\n",
    "    const response = await fetch(\"http://...\");  // 可调用其他异步函数，使用 await\n",
    "    const json = await response.json();\n",
    "    console.log(json);\n",
    "}\n",
    "\n",
    "f();"
   ]
  },
  {
   "cell_type": "markdown",
   "metadata": {},
   "source": [
    "Await 陷阱 1"
   ]
  },
  {
   "cell_type": "code",
   "execution_count": null,
   "metadata": {
    "vscode": {
     "languageId": "javascript"
    }
   },
   "outputs": [],
   "source": [
    "// 错误例子！！！！\n",
    "async function f(){\n",
    "    const a = await fetch(\"http://.../post/1\");\n",
    "    const b = await fetch(\"http://.../post/2\");\n",
    "}\n",
    "f()\n",
    "// 如果分别去 await 这两个异步操作， \n",
    "// 会打破两个 fetch() 操作的并行， 因为 a 执行完才会执行 b。"
   ]
  },
  {
   "cell_type": "code",
   "execution_count": null,
   "metadata": {
    "vscode": {
     "languageId": "javascript"
    }
   },
   "outputs": [],
   "source": [
    "// 正确写法：\n",
    "async function f(){\n",
    "    const promiseA = await fetch(\"http://.../post/1\");\n",
    "    const promiseB = await fetch(\"http://.../post/2\");\n",
    "\n",
    "    const [a, b] = await Promise.all([promiseA, promiseB]);\n",
    "    // 先用 Promise.all 组合起来， 再 await。\n",
    "}\n",
    "\n",
    "f();"
   ]
  },
  {
   "cell_type": "markdown",
   "metadata": {},
   "source": [
    "Await 陷阱 2"
   ]
  },
  {
   "cell_type": "code",
   "execution_count": null,
   "metadata": {
    "vscode": {
     "languageId": "javascript"
    }
   },
   "outputs": [],
   "source": [
    "// 错误例子！！！！不可以用 forEach() / map()\n",
    "async function f(){\n",
    "    [1, 2, 3].forEach(async (i) => {\n",
    "        await someAsyncOperation();\n",
    "    });\n",
    "\n",
    "    console.log(\"done\");\n",
    "}\n",
    "f();\n",
    "// 尽管写了 await 但是 forEach 会立刻返回， 他不会等到所有异步操作执行完毕\n",
    "// 如果我们希望等待循环中的异步操作都一一完成之后才继续执行， 应用 for 循环"
   ]
  },
  {
   "cell_type": "code",
   "execution_count": null,
   "metadata": {
    "vscode": {
     "languageId": "javascript"
    }
   },
   "outputs": [],
   "source": [
    "// 正确例子：\n",
    "async function f(){\n",
    "    for (let i of [1, 2, 3]) {\n",
    "        await someAsyncOperation();\n",
    "    }\n",
    "\n",
    "    console.log(\"done\");\n",
    "}\n",
    "f();"
   ]
  },
  {
   "cell_type": "code",
   "execution_count": null,
   "metadata": {
    "vscode": {
     "languageId": "javascript"
    }
   },
   "outputs": [],
   "source": [
    "// 若想要循环中的所有操作都并发执行\n",
    "// 正确例子：\n",
    "async function f(){\n",
    "    const promises = [\n",
    "        someAsyncOperation(),\n",
    "        someAsyncOperation(),\n",
    "        someAsyncOperation(),\n",
    "    ];\n",
    "\n",
    "    for await (let result of promises){\n",
    "\n",
    "    }\n",
    "    console.log('done');\n",
    "}"
   ]
  },
  {
   "cell_type": "markdown",
   "metadata": {},
   "source": [
    "Await 陷阱 3"
   ]
  },
  {
   "cell_type": "code",
   "execution_count": null,
   "metadata": {
    "vscode": {
     "languageId": "javascript"
    }
   },
   "outputs": [],
   "source": [
    "// 错误例子！！！\n",
    "await someAsyncOperaton();\n",
    "// 不能在全局或普通函数里使用 await 关键字\n",
    "// 若想在最外层使用 await， 那么需要先定义一个异步函数"
   ]
  },
  {
   "cell_type": "code",
   "execution_count": null,
   "metadata": {
    "vscode": {
     "languageId": "javascript"
    }
   },
   "outputs": [],
   "source": [
    "// 正确例子：\n",
    "async function f(){\n",
    "    await someAsyncOperation();\n",
    "}\n",
    "f();\n",
    "// 简洁写法\n",
    "(async () => {\n",
    "    await someAsyncOperation();\n",
    "}) ();"
   ]
  },
  {
   "cell_type": "markdown",
   "metadata": {},
   "source": [
    "例子："
   ]
  },
  {
   "cell_type": "markdown",
   "metadata": {},
   "source": [
    "使用 async 和 await 可以几乎不再需要使用底层的 Promise 对象， 包括调用它的 then(), catch() 函数等。"
   ]
  },
  {
   "cell_type": "code",
   "execution_count": null,
   "metadata": {
    "vscode": {
     "languageId": "javascript"
    }
   },
   "outputs": [],
   "source": [
    "// 不再需要这样写， 但是正确写法我也不知道。\n",
    "function requestSomeData(method, url) {\n",
    "    return new Promise(function (resolve, reject) {\n",
    "        var xhr = new XMLHttpRequest();\n",
    "        xhr.open(method, url);\n",
    "        xhr.onload = function () {\n",
    "            if (this.status >= 200 && this.status < 300) {\n",
    "                resolve(xhr.response);\n",
    "            } else {\n",
    "                reject({\n",
    "                    status: this.status,\n",
    "                    statusText: xhr.statusText,\n",
    "                });\n",
    "            }\n",
    "        };\n",
    "        xhr.onerror = function () {\n",
    "            reject({\n",
    "                status: this.status,\n",
    "                statusText: xhr.statusText,\n",
    "            });\n",
    "        }\n",
    "    })\n",
    "}"
   ]
  }
 ],
 "metadata": {
  "language_info": {
   "name": "python"
  },
  "orig_nbformat": 4
 },
 "nbformat": 4,
 "nbformat_minor": 2
}
