{
 "cells": [
  {
   "cell_type": "markdown",
   "metadata": {},
   "source": [
    "# AJAX 是开发者的梦想\n",
    "Asynchronous JavaScript And XML"
   ]
  },
  {
   "cell_type": "markdown",
   "metadata": {},
   "source": [
    "* 不刷新网页更新\n",
    "* 在页面加载后从服务器请求数据\n",
    "* 在页面加载后从服务器接收数据\n",
    "* 在后台向服务器发送数据"
   ]
  },
  {
   "cell_type": "code",
   "execution_count": null,
   "metadata": {
    "vscode": {
     "languageId": "html"
    }
   },
   "outputs": [],
   "source": [
    "<!-- 例：点击按钮更改页面文字 -->\n",
    "<!DOCTYPE html>\n",
    "<html>\n",
    "<body>\n",
    "\n",
    "<div id=\"demo\">\n",
    "<h1>XMLHttpRequest 对象</h1>\n",
    "<button type=\"button\" onclick=\"loadDoc()\">修改内容</button>\n",
    "</div>\n",
    "\n",
    "<script>\n",
    "function loadDoc() {\n",
    "  var xhttp = new XMLHttpRequest();\n",
    "  xhttp.onreadystatechange = function() {\n",
    "    if (this.readyState == 4 && this.status == 200) {\n",
    "      document.getElementById(\"demo\").innerHTML =\n",
    "      this.responseText;\n",
    "    }\n",
    "  };\n",
    "  xhttp.open(\"GET\", \"/demo/js/ajax_info.txt\", true);\n",
    "  xhttp.send();\n",
    "}\n",
    "</script>\n",
    "\n",
    "</body>\n",
    "</html>\n"
   ]
  }
 ],
 "metadata": {
  "language_info": {
   "name": "python"
  },
  "orig_nbformat": 4
 },
 "nbformat": 4,
 "nbformat_minor": 2
}
